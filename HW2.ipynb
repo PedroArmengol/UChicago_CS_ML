{
 "cells": [
  {
   "cell_type": "markdown",
   "metadata": {},
   "source": [
    "# HW2: Pedro Armengol"
   ]
  },
  {
   "cell_type": "markdown",
   "metadata": {},
   "source": [
    "# 1) Import Packages and Read CSV"
   ]
  },
  {
   "cell_type": "code",
   "execution_count": 75,
   "metadata": {
    "collapsed": false
   },
   "outputs": [],
   "source": [
    "import pandas as pd\n",
    "import numpy as np\n",
    "import random\n",
    "import matplotlib.pyplot as plt\n",
    "import plotly.plotly as py  # tools to communicate with Plotly's server\n",
    "from sklearn.linear_model import LogisticRegression\n",
    "from sklearn.cross_validation import train_test_split\n",
    "from sklearn import metrics\n",
    "from sklearn.cross_validation import cross_val_score\n",
    "\n",
    "%matplotlib inline\n",
    "\n",
    "path = \"/Users/Usuario/Documents/Chicago/CS_ML/HW2/Data/\"\n",
    "data = \"credit-data.csv\""
   ]
  },
  {
   "cell_type": "code",
   "execution_count": 4,
   "metadata": {
    "collapsed": false
   },
   "outputs": [],
   "source": [
    "credit_df = pd.read_csv(path+data)"
   ]
  },
  {
   "cell_type": "markdown",
   "metadata": {},
   "source": [
    "## 2) DESCRIPTIVE STATISTICS"
   ]
  },
  {
   "cell_type": "code",
   "execution_count": 5,
   "metadata": {
    "collapsed": false
   },
   "outputs": [
    {
     "data": {
      "text/plain": [
       "PersonID                                150000\n",
       "SeriousDlqin2yrs                        150000\n",
       "RevolvingUtilizationOfUnsecuredLines    150000\n",
       "age                                     150000\n",
       "zipcode                                 150000\n",
       "NumberOfTime30-59DaysPastDueNotWorse    150000\n",
       "DebtRatio                               150000\n",
       "MonthlyIncome                           120269\n",
       "NumberOfOpenCreditLinesAndLoans         150000\n",
       "NumberOfTimes90DaysLate                 150000\n",
       "NumberRealEstateLoansOrLines            150000\n",
       "NumberOfTime60-89DaysPastDueNotWorse    150000\n",
       "NumberOfDependents                      146076\n",
       "dtype: int64"
      ]
     },
     "execution_count": 5,
     "metadata": {},
     "output_type": "execute_result"
    }
   ],
   "source": [
    "list(credit_df)\n",
    "credit_df.count()"
   ]
  },
  {
   "cell_type": "markdown",
   "metadata": {},
   "source": [
    "The database have 150,000 observations, where every observation is a creditholder. Some variables have missing values: NA (for example, MonthlyIncome has almost 3,000 NA's). There would be neccesary a data imputation mechanism in order to build a balace dataframe for the predictions."
   ]
  },
  {
   "cell_type": "markdown",
   "metadata": {},
   "source": [
    "## Table of Means\n"
   ]
  },
  {
   "cell_type": "code",
   "execution_count": 6,
   "metadata": {
    "collapsed": false
   },
   "outputs": [
    {
     "data": {
      "text/html": [
       "<div>\n",
       "<table border=\"1\" class=\"dataframe\">\n",
       "  <thead>\n",
       "    <tr style=\"text-align: right;\">\n",
       "      <th></th>\n",
       "      <th>RevolvingUtilizationOfUnsecuredLines</th>\n",
       "      <th>age</th>\n",
       "      <th>DebtRatio</th>\n",
       "      <th>MonthlyIncome</th>\n",
       "      <th>NumberOfOpenCreditLinesAndLoans</th>\n",
       "      <th>NumberOfDependents</th>\n",
       "    </tr>\n",
       "    <tr>\n",
       "      <th>SeriousDlqin2yrs</th>\n",
       "      <th></th>\n",
       "      <th></th>\n",
       "      <th></th>\n",
       "      <th></th>\n",
       "      <th></th>\n",
       "      <th></th>\n",
       "    </tr>\n",
       "  </thead>\n",
       "  <tbody>\n",
       "    <tr>\n",
       "      <th>0</th>\n",
       "      <td>6.168855</td>\n",
       "      <td>52.751375</td>\n",
       "      <td>357.151168</td>\n",
       "      <td>6747.837774</td>\n",
       "      <td>8.493620</td>\n",
       "      <td>0.743417</td>\n",
       "    </tr>\n",
       "    <tr>\n",
       "      <th>1</th>\n",
       "      <td>4.367282</td>\n",
       "      <td>45.926591</td>\n",
       "      <td>295.121066</td>\n",
       "      <td>5630.826493</td>\n",
       "      <td>7.882306</td>\n",
       "      <td>0.948208</td>\n",
       "    </tr>\n",
       "  </tbody>\n",
       "</table>\n",
       "</div>"
      ],
      "text/plain": [
       "                  RevolvingUtilizationOfUnsecuredLines        age   DebtRatio  \\\n",
       "SeriousDlqin2yrs                                                                \n",
       "0                                             6.168855  52.751375  357.151168   \n",
       "1                                             4.367282  45.926591  295.121066   \n",
       "\n",
       "                  MonthlyIncome  NumberOfOpenCreditLinesAndLoans  \\\n",
       "SeriousDlqin2yrs                                                   \n",
       "0                   6747.837774                         8.493620   \n",
       "1                   5630.826493                         7.882306   \n",
       "\n",
       "                  NumberOfDependents  \n",
       "SeriousDlqin2yrs                      \n",
       "0                           0.743417  \n",
       "1                           0.948208  "
      ]
     },
     "execution_count": 6,
     "metadata": {},
     "output_type": "execute_result"
    }
   ],
   "source": [
    "table_means = credit_df.groupby([\"SeriousDlqin2yrs\"])[\"RevolvingUtilizationOfUnsecuredLines\",\"age\",\"DebtRatio\",\"MonthlyIncome\",\"NumberOfOpenCreditLinesAndLoans\",\"NumberOfDependents\"].mean()\n",
    "table_means"
   ]
  },
  {
   "cell_type": "markdown",
   "metadata": {},
   "source": [
    "In this table, we show the difference in means between the people that experienced financial distress and (Serious Dlqin2yrs == 1) and the ones that not. In general, the people that experienced financial distress have relatively less revolving utilization of unsecured lines. This group is relatively younger, have a smaller debt ration (that is reasonable given less access to loans) and, also, a smaller monthly income. In the same direction, the number of open credits of the \"financial distress\" group is smaller and the other group. The number of dependants is higher in the \"financial distress\" group as well. "
   ]
  },
  {
   "cell_type": "markdown",
   "metadata": {},
   "source": [
    "## Correlation Matrix"
   ]
  },
  {
   "cell_type": "code",
   "execution_count": 7,
   "metadata": {
    "collapsed": false
   },
   "outputs": [
    {
     "data": {
      "text/html": [
       "<div>\n",
       "<table border=\"1\" class=\"dataframe\">\n",
       "  <thead>\n",
       "    <tr style=\"text-align: right;\">\n",
       "      <th></th>\n",
       "      <th>PersonID</th>\n",
       "      <th>SeriousDlqin2yrs</th>\n",
       "      <th>RevolvingUtilizationOfUnsecuredLines</th>\n",
       "      <th>age</th>\n",
       "      <th>zipcode</th>\n",
       "      <th>NumberOfTime30-59DaysPastDueNotWorse</th>\n",
       "      <th>DebtRatio</th>\n",
       "      <th>MonthlyIncome</th>\n",
       "      <th>NumberOfOpenCreditLinesAndLoans</th>\n",
       "      <th>NumberOfTimes90DaysLate</th>\n",
       "      <th>NumberRealEstateLoansOrLines</th>\n",
       "      <th>NumberOfTime60-89DaysPastDueNotWorse</th>\n",
       "      <th>NumberOfDependents</th>\n",
       "    </tr>\n",
       "  </thead>\n",
       "  <tbody>\n",
       "    <tr>\n",
       "      <th>PersonID</th>\n",
       "      <td>1.000000</td>\n",
       "      <td>0.002801</td>\n",
       "      <td>0.002372</td>\n",
       "      <td>0.004403</td>\n",
       "      <td>-0.002721</td>\n",
       "      <td>-0.000571</td>\n",
       "      <td>-0.002906</td>\n",
       "      <td>0.002632</td>\n",
       "      <td>0.004586</td>\n",
       "      <td>-0.001104</td>\n",
       "      <td>-0.000666</td>\n",
       "      <td>-0.000777</td>\n",
       "      <td>-0.000055</td>\n",
       "    </tr>\n",
       "    <tr>\n",
       "      <th>SeriousDlqin2yrs</th>\n",
       "      <td>0.002801</td>\n",
       "      <td>1.000000</td>\n",
       "      <td>-0.001802</td>\n",
       "      <td>-0.115386</td>\n",
       "      <td>0.005103</td>\n",
       "      <td>0.125587</td>\n",
       "      <td>-0.007602</td>\n",
       "      <td>-0.019746</td>\n",
       "      <td>-0.029669</td>\n",
       "      <td>0.117175</td>\n",
       "      <td>-0.007038</td>\n",
       "      <td>0.102261</td>\n",
       "      <td>0.046048</td>\n",
       "    </tr>\n",
       "    <tr>\n",
       "      <th>RevolvingUtilizationOfUnsecuredLines</th>\n",
       "      <td>0.002372</td>\n",
       "      <td>-0.001802</td>\n",
       "      <td>1.000000</td>\n",
       "      <td>-0.005898</td>\n",
       "      <td>-0.003571</td>\n",
       "      <td>-0.001314</td>\n",
       "      <td>0.003961</td>\n",
       "      <td>0.007124</td>\n",
       "      <td>-0.011281</td>\n",
       "      <td>-0.001061</td>\n",
       "      <td>0.006235</td>\n",
       "      <td>-0.001048</td>\n",
       "      <td>0.001557</td>\n",
       "    </tr>\n",
       "    <tr>\n",
       "      <th>age</th>\n",
       "      <td>0.004403</td>\n",
       "      <td>-0.115386</td>\n",
       "      <td>-0.005898</td>\n",
       "      <td>1.000000</td>\n",
       "      <td>0.002590</td>\n",
       "      <td>-0.062995</td>\n",
       "      <td>0.024188</td>\n",
       "      <td>0.037717</td>\n",
       "      <td>0.147705</td>\n",
       "      <td>-0.061005</td>\n",
       "      <td>0.033150</td>\n",
       "      <td>-0.057159</td>\n",
       "      <td>-0.213303</td>\n",
       "    </tr>\n",
       "    <tr>\n",
       "      <th>zipcode</th>\n",
       "      <td>-0.002721</td>\n",
       "      <td>0.005103</td>\n",
       "      <td>-0.003571</td>\n",
       "      <td>0.002590</td>\n",
       "      <td>1.000000</td>\n",
       "      <td>0.007429</td>\n",
       "      <td>0.001458</td>\n",
       "      <td>0.002070</td>\n",
       "      <td>-0.003609</td>\n",
       "      <td>0.007543</td>\n",
       "      <td>-0.001345</td>\n",
       "      <td>0.007619</td>\n",
       "      <td>-0.003511</td>\n",
       "    </tr>\n",
       "    <tr>\n",
       "      <th>NumberOfTime30-59DaysPastDueNotWorse</th>\n",
       "      <td>-0.000571</td>\n",
       "      <td>0.125587</td>\n",
       "      <td>-0.001314</td>\n",
       "      <td>-0.062995</td>\n",
       "      <td>0.007429</td>\n",
       "      <td>1.000000</td>\n",
       "      <td>-0.006542</td>\n",
       "      <td>-0.010217</td>\n",
       "      <td>-0.055312</td>\n",
       "      <td>0.983603</td>\n",
       "      <td>-0.030565</td>\n",
       "      <td>0.987005</td>\n",
       "      <td>-0.002680</td>\n",
       "    </tr>\n",
       "    <tr>\n",
       "      <th>DebtRatio</th>\n",
       "      <td>-0.002906</td>\n",
       "      <td>-0.007602</td>\n",
       "      <td>0.003961</td>\n",
       "      <td>0.024188</td>\n",
       "      <td>0.001458</td>\n",
       "      <td>-0.006542</td>\n",
       "      <td>1.000000</td>\n",
       "      <td>-0.028712</td>\n",
       "      <td>0.049565</td>\n",
       "      <td>-0.008320</td>\n",
       "      <td>0.120046</td>\n",
       "      <td>-0.007533</td>\n",
       "      <td>-0.040673</td>\n",
       "    </tr>\n",
       "    <tr>\n",
       "      <th>MonthlyIncome</th>\n",
       "      <td>0.002632</td>\n",
       "      <td>-0.019746</td>\n",
       "      <td>0.007124</td>\n",
       "      <td>0.037717</td>\n",
       "      <td>0.002070</td>\n",
       "      <td>-0.010217</td>\n",
       "      <td>-0.028712</td>\n",
       "      <td>1.000000</td>\n",
       "      <td>0.091455</td>\n",
       "      <td>-0.012743</td>\n",
       "      <td>0.124959</td>\n",
       "      <td>-0.011116</td>\n",
       "      <td>0.062647</td>\n",
       "    </tr>\n",
       "    <tr>\n",
       "      <th>NumberOfOpenCreditLinesAndLoans</th>\n",
       "      <td>0.004586</td>\n",
       "      <td>-0.029669</td>\n",
       "      <td>-0.011281</td>\n",
       "      <td>0.147705</td>\n",
       "      <td>-0.003609</td>\n",
       "      <td>-0.055312</td>\n",
       "      <td>0.049565</td>\n",
       "      <td>0.091455</td>\n",
       "      <td>1.000000</td>\n",
       "      <td>-0.079984</td>\n",
       "      <td>0.433959</td>\n",
       "      <td>-0.071077</td>\n",
       "      <td>0.065322</td>\n",
       "    </tr>\n",
       "    <tr>\n",
       "      <th>NumberOfTimes90DaysLate</th>\n",
       "      <td>-0.001104</td>\n",
       "      <td>0.117175</td>\n",
       "      <td>-0.001061</td>\n",
       "      <td>-0.061005</td>\n",
       "      <td>0.007543</td>\n",
       "      <td>0.983603</td>\n",
       "      <td>-0.008320</td>\n",
       "      <td>-0.012743</td>\n",
       "      <td>-0.079984</td>\n",
       "      <td>1.000000</td>\n",
       "      <td>-0.045205</td>\n",
       "      <td>0.992796</td>\n",
       "      <td>-0.010176</td>\n",
       "    </tr>\n",
       "    <tr>\n",
       "      <th>NumberRealEstateLoansOrLines</th>\n",
       "      <td>-0.000666</td>\n",
       "      <td>-0.007038</td>\n",
       "      <td>0.006235</td>\n",
       "      <td>0.033150</td>\n",
       "      <td>-0.001345</td>\n",
       "      <td>-0.030565</td>\n",
       "      <td>0.120046</td>\n",
       "      <td>0.124959</td>\n",
       "      <td>0.433959</td>\n",
       "      <td>-0.045205</td>\n",
       "      <td>1.000000</td>\n",
       "      <td>-0.039722</td>\n",
       "      <td>0.124684</td>\n",
       "    </tr>\n",
       "    <tr>\n",
       "      <th>NumberOfTime60-89DaysPastDueNotWorse</th>\n",
       "      <td>-0.000777</td>\n",
       "      <td>0.102261</td>\n",
       "      <td>-0.001048</td>\n",
       "      <td>-0.057159</td>\n",
       "      <td>0.007619</td>\n",
       "      <td>0.987005</td>\n",
       "      <td>-0.007533</td>\n",
       "      <td>-0.011116</td>\n",
       "      <td>-0.071077</td>\n",
       "      <td>0.992796</td>\n",
       "      <td>-0.039722</td>\n",
       "      <td>1.000000</td>\n",
       "      <td>-0.010922</td>\n",
       "    </tr>\n",
       "    <tr>\n",
       "      <th>NumberOfDependents</th>\n",
       "      <td>-0.000055</td>\n",
       "      <td>0.046048</td>\n",
       "      <td>0.001557</td>\n",
       "      <td>-0.213303</td>\n",
       "      <td>-0.003511</td>\n",
       "      <td>-0.002680</td>\n",
       "      <td>-0.040673</td>\n",
       "      <td>0.062647</td>\n",
       "      <td>0.065322</td>\n",
       "      <td>-0.010176</td>\n",
       "      <td>0.124684</td>\n",
       "      <td>-0.010922</td>\n",
       "      <td>1.000000</td>\n",
       "    </tr>\n",
       "  </tbody>\n",
       "</table>\n",
       "</div>"
      ],
      "text/plain": [
       "                                      PersonID  SeriousDlqin2yrs  \\\n",
       "PersonID                              1.000000          0.002801   \n",
       "SeriousDlqin2yrs                      0.002801          1.000000   \n",
       "RevolvingUtilizationOfUnsecuredLines  0.002372         -0.001802   \n",
       "age                                   0.004403         -0.115386   \n",
       "zipcode                              -0.002721          0.005103   \n",
       "NumberOfTime30-59DaysPastDueNotWorse -0.000571          0.125587   \n",
       "DebtRatio                            -0.002906         -0.007602   \n",
       "MonthlyIncome                         0.002632         -0.019746   \n",
       "NumberOfOpenCreditLinesAndLoans       0.004586         -0.029669   \n",
       "NumberOfTimes90DaysLate              -0.001104          0.117175   \n",
       "NumberRealEstateLoansOrLines         -0.000666         -0.007038   \n",
       "NumberOfTime60-89DaysPastDueNotWorse -0.000777          0.102261   \n",
       "NumberOfDependents                   -0.000055          0.046048   \n",
       "\n",
       "                                      RevolvingUtilizationOfUnsecuredLines  \\\n",
       "PersonID                                                          0.002372   \n",
       "SeriousDlqin2yrs                                                 -0.001802   \n",
       "RevolvingUtilizationOfUnsecuredLines                              1.000000   \n",
       "age                                                              -0.005898   \n",
       "zipcode                                                          -0.003571   \n",
       "NumberOfTime30-59DaysPastDueNotWorse                             -0.001314   \n",
       "DebtRatio                                                         0.003961   \n",
       "MonthlyIncome                                                     0.007124   \n",
       "NumberOfOpenCreditLinesAndLoans                                  -0.011281   \n",
       "NumberOfTimes90DaysLate                                          -0.001061   \n",
       "NumberRealEstateLoansOrLines                                      0.006235   \n",
       "NumberOfTime60-89DaysPastDueNotWorse                             -0.001048   \n",
       "NumberOfDependents                                                0.001557   \n",
       "\n",
       "                                           age   zipcode  \\\n",
       "PersonID                              0.004403 -0.002721   \n",
       "SeriousDlqin2yrs                     -0.115386  0.005103   \n",
       "RevolvingUtilizationOfUnsecuredLines -0.005898 -0.003571   \n",
       "age                                   1.000000  0.002590   \n",
       "zipcode                               0.002590  1.000000   \n",
       "NumberOfTime30-59DaysPastDueNotWorse -0.062995  0.007429   \n",
       "DebtRatio                             0.024188  0.001458   \n",
       "MonthlyIncome                         0.037717  0.002070   \n",
       "NumberOfOpenCreditLinesAndLoans       0.147705 -0.003609   \n",
       "NumberOfTimes90DaysLate              -0.061005  0.007543   \n",
       "NumberRealEstateLoansOrLines          0.033150 -0.001345   \n",
       "NumberOfTime60-89DaysPastDueNotWorse -0.057159  0.007619   \n",
       "NumberOfDependents                   -0.213303 -0.003511   \n",
       "\n",
       "                                      NumberOfTime30-59DaysPastDueNotWorse  \\\n",
       "PersonID                                                         -0.000571   \n",
       "SeriousDlqin2yrs                                                  0.125587   \n",
       "RevolvingUtilizationOfUnsecuredLines                             -0.001314   \n",
       "age                                                              -0.062995   \n",
       "zipcode                                                           0.007429   \n",
       "NumberOfTime30-59DaysPastDueNotWorse                              1.000000   \n",
       "DebtRatio                                                        -0.006542   \n",
       "MonthlyIncome                                                    -0.010217   \n",
       "NumberOfOpenCreditLinesAndLoans                                  -0.055312   \n",
       "NumberOfTimes90DaysLate                                           0.983603   \n",
       "NumberRealEstateLoansOrLines                                     -0.030565   \n",
       "NumberOfTime60-89DaysPastDueNotWorse                              0.987005   \n",
       "NumberOfDependents                                               -0.002680   \n",
       "\n",
       "                                      DebtRatio  MonthlyIncome  \\\n",
       "PersonID                              -0.002906       0.002632   \n",
       "SeriousDlqin2yrs                      -0.007602      -0.019746   \n",
       "RevolvingUtilizationOfUnsecuredLines   0.003961       0.007124   \n",
       "age                                    0.024188       0.037717   \n",
       "zipcode                                0.001458       0.002070   \n",
       "NumberOfTime30-59DaysPastDueNotWorse  -0.006542      -0.010217   \n",
       "DebtRatio                              1.000000      -0.028712   \n",
       "MonthlyIncome                         -0.028712       1.000000   \n",
       "NumberOfOpenCreditLinesAndLoans        0.049565       0.091455   \n",
       "NumberOfTimes90DaysLate               -0.008320      -0.012743   \n",
       "NumberRealEstateLoansOrLines           0.120046       0.124959   \n",
       "NumberOfTime60-89DaysPastDueNotWorse  -0.007533      -0.011116   \n",
       "NumberOfDependents                    -0.040673       0.062647   \n",
       "\n",
       "                                      NumberOfOpenCreditLinesAndLoans  \\\n",
       "PersonID                                                     0.004586   \n",
       "SeriousDlqin2yrs                                            -0.029669   \n",
       "RevolvingUtilizationOfUnsecuredLines                        -0.011281   \n",
       "age                                                          0.147705   \n",
       "zipcode                                                     -0.003609   \n",
       "NumberOfTime30-59DaysPastDueNotWorse                        -0.055312   \n",
       "DebtRatio                                                    0.049565   \n",
       "MonthlyIncome                                                0.091455   \n",
       "NumberOfOpenCreditLinesAndLoans                              1.000000   \n",
       "NumberOfTimes90DaysLate                                     -0.079984   \n",
       "NumberRealEstateLoansOrLines                                 0.433959   \n",
       "NumberOfTime60-89DaysPastDueNotWorse                        -0.071077   \n",
       "NumberOfDependents                                           0.065322   \n",
       "\n",
       "                                      NumberOfTimes90DaysLate  \\\n",
       "PersonID                                            -0.001104   \n",
       "SeriousDlqin2yrs                                     0.117175   \n",
       "RevolvingUtilizationOfUnsecuredLines                -0.001061   \n",
       "age                                                 -0.061005   \n",
       "zipcode                                              0.007543   \n",
       "NumberOfTime30-59DaysPastDueNotWorse                 0.983603   \n",
       "DebtRatio                                           -0.008320   \n",
       "MonthlyIncome                                       -0.012743   \n",
       "NumberOfOpenCreditLinesAndLoans                     -0.079984   \n",
       "NumberOfTimes90DaysLate                              1.000000   \n",
       "NumberRealEstateLoansOrLines                        -0.045205   \n",
       "NumberOfTime60-89DaysPastDueNotWorse                 0.992796   \n",
       "NumberOfDependents                                  -0.010176   \n",
       "\n",
       "                                      NumberRealEstateLoansOrLines  \\\n",
       "PersonID                                                 -0.000666   \n",
       "SeriousDlqin2yrs                                         -0.007038   \n",
       "RevolvingUtilizationOfUnsecuredLines                      0.006235   \n",
       "age                                                       0.033150   \n",
       "zipcode                                                  -0.001345   \n",
       "NumberOfTime30-59DaysPastDueNotWorse                     -0.030565   \n",
       "DebtRatio                                                 0.120046   \n",
       "MonthlyIncome                                             0.124959   \n",
       "NumberOfOpenCreditLinesAndLoans                           0.433959   \n",
       "NumberOfTimes90DaysLate                                  -0.045205   \n",
       "NumberRealEstateLoansOrLines                              1.000000   \n",
       "NumberOfTime60-89DaysPastDueNotWorse                     -0.039722   \n",
       "NumberOfDependents                                        0.124684   \n",
       "\n",
       "                                      NumberOfTime60-89DaysPastDueNotWorse  \\\n",
       "PersonID                                                         -0.000777   \n",
       "SeriousDlqin2yrs                                                  0.102261   \n",
       "RevolvingUtilizationOfUnsecuredLines                             -0.001048   \n",
       "age                                                              -0.057159   \n",
       "zipcode                                                           0.007619   \n",
       "NumberOfTime30-59DaysPastDueNotWorse                              0.987005   \n",
       "DebtRatio                                                        -0.007533   \n",
       "MonthlyIncome                                                    -0.011116   \n",
       "NumberOfOpenCreditLinesAndLoans                                  -0.071077   \n",
       "NumberOfTimes90DaysLate                                           0.992796   \n",
       "NumberRealEstateLoansOrLines                                     -0.039722   \n",
       "NumberOfTime60-89DaysPastDueNotWorse                              1.000000   \n",
       "NumberOfDependents                                               -0.010922   \n",
       "\n",
       "                                      NumberOfDependents  \n",
       "PersonID                                       -0.000055  \n",
       "SeriousDlqin2yrs                                0.046048  \n",
       "RevolvingUtilizationOfUnsecuredLines            0.001557  \n",
       "age                                            -0.213303  \n",
       "zipcode                                        -0.003511  \n",
       "NumberOfTime30-59DaysPastDueNotWorse           -0.002680  \n",
       "DebtRatio                                      -0.040673  \n",
       "MonthlyIncome                                   0.062647  \n",
       "NumberOfOpenCreditLinesAndLoans                 0.065322  \n",
       "NumberOfTimes90DaysLate                        -0.010176  \n",
       "NumberRealEstateLoansOrLines                    0.124684  \n",
       "NumberOfTime60-89DaysPastDueNotWorse           -0.010922  \n",
       "NumberOfDependents                              1.000000  "
      ]
     },
     "execution_count": 7,
     "metadata": {},
     "output_type": "execute_result"
    }
   ],
   "source": [
    "credit_df.corr()"
   ]
  },
  {
   "cell_type": "markdown",
   "metadata": {},
   "source": [
    "Running a correlation matrix is easy to see that there are not strong correlations (negative nor positive) between our variable of interest (SeriousDlqin2yr) under the standar parameter $p > .6$. However, given that SeriousDlqin2yr is a dummy, some correlations are worth to note: first there is a negative correlation between age and propensity to suffer \"financial distress\". Second, there is a positive correlation between financial distress and NumberOfTime60-89DaysPastDueNotWorse, NumberOfTimes90DaysLate and NumberOfTime60-89DaysPastDueNotWorse. In other words, sort term loans neglections are positively asociated to long term (2 years) financial distress.\n",
    "\n",
    "\n"
   ]
  },
  {
   "cell_type": "markdown",
   "metadata": {},
   "source": [
    "### Histograms of Key Variables"
   ]
  },
  {
   "cell_type": "code",
   "execution_count": 99,
   "metadata": {
    "collapsed": false
   },
   "outputs": [
    {
     "data": {
      "image/png": "[encoded data removed]",
      "text/plain": [
       "<matplotlib.figure.Figure at 0x11f95c358>"
      ]
     },
     "metadata": {},
     "output_type": "display_data"
    }
   ],
   "source": [
    "# histogram of education\n",
    "plt.figure(1)\n",
    "\n",
    "plt.subplot(221)\n",
    "plt.title('Histogram of Age (Non Finantial Distress)')\n",
    "credit_df.age[credit_df[\"SeriousDlqin2yrs\"] == 0].hist()\n",
    "plt.xlabel('Years')\n",
    "plt.ylabel('Frequency')\n",
    "\n",
    "plt.subplot(222)\n",
    "plt.title('Histogram of Age (Finantial Distress)')\n",
    "credit_df.age[credit_df[\"SeriousDlqin2yrs\"] == 1].hist()\n",
    "plt.xlabel('Years')\n",
    "plt.ylabel('Frequency')\n",
    "\n",
    "plt.subplots_adjust(top=4, bottom=0.08, left=0.30, right=2.0, hspace=3.0,wspace=1.0)\n",
    "plt.show()\n",
    "\n",
    "\n"
   ]
  },
  {
   "cell_type": "markdown",
   "metadata": {},
   "source": [
    "The age distribution of the people with \"financial distress\" is more positive swed that the people without it. In other words, the biggest chunk of people with \"financial distress\" is concentrated in early ages,  with a relative small incidence of cases beyond the $60$ years old."
   ]
  },
  {
   "cell_type": "code",
   "execution_count": 125,
   "metadata": {
    "collapsed": true
   },
   "outputs": [],
   "source": [
    "credit_df[\"monthly_categ\"] = pd.qcut(credit_df[\"MonthlyIncome\"], 5, labels=[\"Very Low\",\"Low\",\"Middle\",\"Middle High\",\"Very High\"])"
   ]
  },
  {
   "cell_type": "code",
   "execution_count": 126,
   "metadata": {
    "collapsed": false
   },
   "outputs": [
    {
     "data": {
      "text/plain": [
       "<matplotlib.text.Text at 0x11f92d2b0>"
      ]
     },
     "execution_count": 126,
     "metadata": {},
     "output_type": "execute_result"
    },
    {
     "data": {
      "image/png": "[encoded data removed]",
      "text/plain": [
       "<matplotlib.figure.Figure at 0x120fcaf28>"
      ]
     },
     "metadata": {},
     "output_type": "display_data"
    }
   ],
   "source": [
    "# barplot of marriage rating grouped by affair (True or False)\n",
    "pd.crosstab(credit_df.monthly_categ, credit_df.SeriousDlqin2yrs.astype(bool)).plot(kind='bar')\n",
    "plt.title('Financial Distress by Income Level')\n",
    "plt.xlabel('Income Level')\n",
    "plt.ylabel('Frequency')\n"
   ]
  },
  {
   "cell_type": "markdown",
   "metadata": {},
   "source": [
    "In the previous graph, there can be observe an slighly trend to suffer less Financial Distress at higher income levels. "
   ]
  },
  {
   "cell_type": "markdown",
   "metadata": {},
   "source": [
    "## 3) Pre - Process Data"
   ]
  },
  {
   "cell_type": "code",
   "execution_count": 122,
   "metadata": {
    "collapsed": true
   },
   "outputs": [],
   "source": [
    "#Read again the dataframe\n",
    "credit_df = pd.read_csv(path+data)"
   ]
  },
  {
   "cell_type": "code",
   "execution_count": 8,
   "metadata": {
    "collapsed": true
   },
   "outputs": [],
   "source": [
    "\n",
    "def filling_missing(df):\n",
    "    '''\n",
    "    Receive a data frame with missing values and return a data frame without missing values\n",
    "    Input:s\n",
    "        Data frame with Nan's\n",
    "    Output:\n",
    "        Data frame without Nan's\n",
    "    \n",
    "    '''\n",
    "    \n",
    "    df = df.fillna(df.mean())\n",
    "    \n",
    "    return df\n",
    "    "
   ]
  },
  {
   "cell_type": "code",
   "execution_count": 9,
   "metadata": {
    "collapsed": false
   },
   "outputs": [],
   "source": [
    "credit_df = filling_missing(credit_df)"
   ]
  },
  {
   "cell_type": "markdown",
   "metadata": {},
   "source": [
    "\n",
    "\n",
    "## 4) Generate Features/Predictors"
   ]
  },
  {
   "cell_type": "code",
   "execution_count": 10,
   "metadata": {
    "collapsed": false
   },
   "outputs": [],
   "source": [
    "def categorize_continuos(var,bins,df):\n",
    "\n",
    "    '''\n",
    "    Receive a continuos variable and discretaize it. After, the variable is merge with the database of interest.\n",
    "    Input:\n",
    "        var: string (variable name)\n",
    "        bins: int (number of cuts in the variable)\n",
    "        df: dataframe (where the continuos variable is located and where the discrete variable will be merge)\n",
    "    Output:\n",
    "        df: dataframe (with the categorical variable)\n",
    "    \n",
    "    '''\n",
    "    df[\"{0}_categ\".format(var)] = pd.cut(df[var],bins)\n",
    "    \n",
    "    return df\n",
    "\n",
    "def categorical_dummy(var,df):\n",
    "\n",
    "    '''\n",
    "    Receive a categorical variable and convert it into several dummies (one for each category). After, the dummies are merge \n",
    "    with the databse of interest\n",
    "    Input:\n",
    "        variable: Data frame column (categorical variable)\n",
    "        df: dataframe      \n",
    "    Output:\n",
    "        df: dataframe (with the dummy variables)\n",
    "        \n",
    "    '''\n",
    "    dummies = pd.get_dummies(df[var])\n",
    "    \n",
    "    n = 0\n",
    "    for i in dummies:\n",
    "        n += 1\n",
    "        name = \"dummy{0}{1}\".format(var,n)\n",
    "        dummies = dummies.rename(columns = {i:name})\n",
    "    \n",
    "    df = df.merge(dummies, left_index = True, right_index = True)   \n",
    "    \n",
    "    return df\n"
   ]
  },
  {
   "cell_type": "markdown",
   "metadata": {},
   "source": [
    "\n",
    "\n",
    "### Processing Data before classification\n",
    "\n",
    "\n"
   ]
  },
  {
   "cell_type": "code",
   "execution_count": 11,
   "metadata": {
    "collapsed": true
   },
   "outputs": [],
   "source": [
    "list_cov = [\"age\", \"NumberOfTime30-59DaysPastDueNotWorse\", \"NumberOfTimes90DaysLate\",\"NumberOfTime60-89DaysPastDueNotWorse\"]"
   ]
  },
  {
   "cell_type": "markdown",
   "metadata": {},
   "source": [
    "We will build the model just with the 4 variables that have the higher correlation coeficient (in absolute value) with our variable to predict (SeriousDlqin2yrs). However, monthly income will be added to that list given the importance that previous literature fund between \"financial distress\" and income.\n"
   ]
  },
  {
   "cell_type": "code",
   "execution_count": 12,
   "metadata": {
    "collapsed": false
   },
   "outputs": [
    {
     "data": {
      "text/plain": [
       "['age',\n",
       " 'NumberOfTime30-59DaysPastDueNotWorse',\n",
       " 'NumberOfTimes90DaysLate',\n",
       " 'NumberOfTime60-89DaysPastDueNotWorse']"
      ]
     },
     "execution_count": 12,
     "metadata": {},
     "output_type": "execute_result"
    }
   ],
   "source": [
    "list_cov"
   ]
  },
  {
   "cell_type": "markdown",
   "metadata": {},
   "source": [
    "##### This loop will create categorical variables for the covariates on the previous list and dummies for each categorie, then will refresh the data frame with the just created predictors\n"
   ]
  },
  {
   "cell_type": "code",
   "execution_count": 19,
   "metadata": {
    "collapsed": false
   },
   "outputs": [],
   "source": [
    "for i in list_cov:\n",
    "    credit_df = categorize_continuos(i,10,credit_df)\n",
    "    credit_df = categorical_dummy(i, credit_df)\n"
   ]
  },
  {
   "cell_type": "markdown",
   "metadata": {},
   "source": [
    "### Delimit X and Y"
   ]
  },
  {
   "cell_type": "code",
   "execution_count": 33,
   "metadata": {
    "collapsed": true
   },
   "outputs": [],
   "source": [
    "list_covariates = []\n",
    "for i in credit_df:\n",
    "    if \"dummy\" in i:\n",
    "        list_covariates.append(i)\n",
    "\n",
    "y = credit_df[\"SeriousDlqin2yrs\"]\n",
    "X = credit_df[list_covariates]"
   ]
  },
  {
   "cell_type": "markdown",
   "metadata": {},
   "source": [
    "## 5) Build Classifier\n"
   ]
  },
  {
   "cell_type": "markdown",
   "metadata": {},
   "source": [
    "### Whole sample estimation"
   ]
  },
  {
   "cell_type": "markdown",
   "metadata": {},
   "source": [
    "We Run a logistic regression model with $SeriousDlqin2yrs$ as the depedent variables and the dummies of the section \"Processing Data before classification\" as indepent variables."
   ]
  },
  {
   "cell_type": "code",
   "execution_count": 40,
   "metadata": {
    "collapsed": false
   },
   "outputs": [],
   "source": [
    "model1 = LogisticRegression()\n",
    "model1 = model1.fit(X, y)\n"
   ]
  },
  {
   "cell_type": "markdown",
   "metadata": {},
   "source": [
    "## 6) Evaluate Classifier"
   ]
  },
  {
   "cell_type": "markdown",
   "metadata": {},
   "source": [
    "### Baseline estimation "
   ]
  },
  {
   "cell_type": "code",
   "execution_count": 266,
   "metadata": {
    "collapsed": false
   },
   "outputs": [
    {
     "data": {
      "text/plain": [
       "0.06684"
      ]
     },
     "execution_count": 266,
     "metadata": {},
     "output_type": "execute_result"
    }
   ],
   "source": [
    "y.mean()\n"
   ]
  },
  {
   "cell_type": "code",
   "execution_count": 28,
   "metadata": {
    "collapsed": false
   },
   "outputs": [
    {
     "data": {
      "text/plain": [
       "0.93316"
      ]
     },
     "execution_count": 28,
     "metadata": {},
     "output_type": "execute_result"
    }
   ],
   "source": [
    "1-0.06684"
   ]
  },
  {
   "cell_type": "markdown",
   "metadata": {},
   "source": [
    "Which would be our efficiency of a simple and \"naive\" model? For example, predicting just SeriousDlqin2yrs == 0? Would accert $93.31$ percent of the cases (we have a very low prevalence of \"financial distress\" in the sample). So, our model has to predict with more than 93.31 percent of accuracy in order to beat the baseline estimation.\n"
   ]
  },
  {
   "cell_type": "code",
   "execution_count": 36,
   "metadata": {
    "collapsed": false
   },
   "outputs": [
    {
     "data": {
      "text/plain": [
       "0.93642000000000003"
      ]
     },
     "execution_count": 36,
     "metadata": {},
     "output_type": "execute_result"
    }
   ],
   "source": [
    "model1.score(X, y)"
   ]
  },
  {
   "cell_type": "code",
   "execution_count": 43,
   "metadata": {
    "collapsed": false
   },
   "outputs": [
    {
     "data": {
      "text/plain": [
       "0.3472073385057247"
      ]
     },
     "execution_count": 43,
     "metadata": {},
     "output_type": "execute_result"
    }
   ],
   "source": [
    "((0.9364-0.93316)/0.93316)*100"
   ]
  },
  {
   "cell_type": "markdown",
   "metadata": {},
   "source": [
    "Here, we check the accuracy on the training set (number of cases correctly predicted over the total number of cases in the sample). Although, we are predicting $93.64$ of the cases correctly our model perform just slightly better than the baseline estimation. Actually, our model just predict $0.34$ percent better than the baseline model."
   ]
  },
  {
   "cell_type": "markdown",
   "metadata": {},
   "source": [
    "### Splitting the test into training and testing test to check for robustness"
   ]
  },
  {
   "cell_type": "markdown",
   "metadata": {},
   "source": [
    "In this section, we will split the data into two different sections: training and testing. The first section is going to fit the model with $70$ percent of the data. The second section, $30$ percent of the data, is going to be used to predict \"financial distress\". The idea is to test if the model is not overfitted in the previous exercise (bringing non-realistic accuracy metrics)."
   ]
  },
  {
   "cell_type": "code",
   "execution_count": 47,
   "metadata": {
    "collapsed": false
   },
   "outputs": [
    {
     "data": {
      "text/plain": [
       "LogisticRegression(C=1.0, class_weight=None, dual=False, fit_intercept=True,\n",
       "          intercept_scaling=1, max_iter=100, multi_class='ovr', n_jobs=1,\n",
       "          penalty='l2', random_state=None, solver='liblinear', tol=0.0001,\n",
       "          verbose=0, warm_start=False)"
      ]
     },
     "execution_count": 47,
     "metadata": {},
     "output_type": "execute_result"
    }
   ],
   "source": [
    "X_train, X_test, y_train, y_test = train_test_split(X, y, test_size=0.3, random_state=0)\n",
    "model2 = LogisticRegression()\n",
    "model2.fit(X_train, y_train)"
   ]
  },
  {
   "cell_type": "code",
   "execution_count": 48,
   "metadata": {
    "collapsed": false
   },
   "outputs": [
    {
     "data": {
      "text/plain": [
       "0.93548888888888893"
      ]
     },
     "execution_count": 48,
     "metadata": {},
     "output_type": "execute_result"
    }
   ],
   "source": [
    "model2.score(X_test, y_test)"
   ]
  },
  {
   "cell_type": "markdown",
   "metadata": {},
   "source": [
    "Over here, we are fitting the model to the testing section of the data. The outcome is very similar to the previous exercise: the out of sample prediction is of $93.54$ percent of accuracy."
   ]
  },
  {
   "cell_type": "markdown",
   "metadata": {},
   "source": [
    "## Conclusion"
   ]
  },
  {
   "cell_type": "markdown",
   "metadata": {
    "collapsed": true
   },
   "source": [
    "In this exercise, we did some descriptive statistics about the age and income levels of the persons that suffer financial distress and those that don't. Also, applying simple functions based on pandas, we process the dataset (fill missing values, categorize variables and so on). We run a logistic regresion model to predict financial distress and compare some accuracy metrics between our predictions and the predictions of a baseline model. Finally, our model did slightly better job that the baseline but almost imperceptible.\n"
   ]
  }
 ],
 "metadata": {
  "kernelspec": {
   "display_name": "Python 3",
   "language": "python",
   "name": "python3"
  },
  "language_info": {
   "codemirror_mode": {
    "name": "ipython",
    "version": 3
   },
   "file_extension": ".py",
   "mimetype": "text/x-python",
   "name": "python",
   "nbconvert_exporter": "python",
   "pygments_lexer": "ipython3",
   "version": "3.6.0"
  }
 },
 "nbformat": 4,
 "nbformat_minor": 2
}
